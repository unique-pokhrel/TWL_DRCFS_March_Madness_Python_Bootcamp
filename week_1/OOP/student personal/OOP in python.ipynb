{
 "cells": [
  {
   "cell_type": "markdown",
   "id": "2b862d53",
   "metadata": {},
   "source": [
    "# Object Oriented Programming in Python\n",
    "Object-oriented programming is a programming paradigm that revolves around the concept of \"objects,\" which are instances of a class that encapsulate data and behavior. Python is an object-oriented language that supports the creation of classes and objects.\n",
    "\n",
    "\n",
    "## What is class in python?\n",
    "In Python, a class is like a blueprint for creating objects. A class defines the attributes (i.e. variables) and methods (i.e. functions) that an object will have.\n",
    "\n",
    "For example, consider a simple example of a person. <b> What could be the attributes that defines a person?</b>. To name a few, a person can include attributes like name, age, gender, height, weight, etc.\n",
    "\n",
    "We can create a class `person` that can contain the following attributes and create a few objects out of the class blueprint. "
   ]
  },
  {
   "cell_type": "code",
   "execution_count": 73,
   "id": "d3032183",
   "metadata": {},
   "outputs": [],
   "source": [
    "class Person:\n",
    "    def __init__(self, name, age, gender, height, weight):\n",
    "        self.name = name\n",
    "        self.age = age\n",
    "        self.gender = gender\n",
    "        self.height = height\n",
    "        self.weight = weight\n",
    "\n"
   ]
  },
  {
   "cell_type": "markdown",
   "id": "a2fa2651",
   "metadata": {},
   "source": [
    "In this implementation, the Person class has five attributes: name, age, gender, height, and weight.\n",
    "\n",
    "The \\_\\_init__ method is a special method that gets called when you create a new instance of the class. It takes three arguments: name, age, gender, height and weight. Inside the \\_\\_init__ method, we assign these arguments to instance variables using the self keyword. This special method is called constructor method.\n",
    "\n",
    "Convention to define a class: use PascalCase naming convention to write a class name. give 2 line breaks before and after defining a class in scripts.\n"
   ]
  },
  {
   "cell_type": "markdown",
   "id": "d3fee3f8",
   "metadata": {},
   "source": [
    "## What is self in the \\_\\_init__() method?\n",
    "In Python, self refers to the instance of the class that a method is being called on. When you create an object from a class, that object is an instance of that class, and it has its own unique set of attributes and behaviors. The self keyword is used to refer to that particular instance of the class.\n",
    "\n",
    "In this example, the \\_\\_init__ method takes a self parameter. When you call this method on an instance of the Person class, you don't need to pass in the self parameter explicitly - Python takes care of that for you. For example, if you create an instance of the Person class and call the \\_\\_init__ method, like this:"
   ]
  },
  {
   "cell_type": "code",
   "execution_count": 75,
   "id": "2351fa01",
   "metadata": {},
   "outputs": [],
   "source": [
    "person1 = Person(\"Rajkumar\", 25, \"Male\", 1.6, 60)\n",
    "person2 = Person(\"Rajkumari\", 30, \"Female\", 1.8, 80)"
   ]
  },
  {
   "cell_type": "markdown",
   "id": "0169c076",
   "metadata": {},
   "source": [
    "Here, we've created two Person objects named person1 and person2. Each object has its own name, age, and gender attributes.\n",
    "\n",
    "We can access these attributes using dot notation:"
   ]
  },
  {
   "cell_type": "code",
   "execution_count": 77,
   "id": "799d3e3b",
   "metadata": {},
   "outputs": [
    {
     "data": {
      "text/plain": [
       "('Rajkumar', 25, 'Female', 'Rajkumari')"
      ]
     },
     "execution_count": 77,
     "metadata": {},
     "output_type": "execute_result"
    }
   ],
   "source": [
    "person1.name, person1.age, person2.gender, person2.name"
   ]
  },
  {
   "cell_type": "markdown",
   "id": "c0d37fcf",
   "metadata": {},
   "source": [
    "In addition to attributes, classes can also have methods. These are functions that belong to the class and can be called on instances of the class. In object-oriented programming (OOP), a method is a programmed procedure that is defined as part of a class and is available to any object instantiated from that class. Each object can call the method, which runs within the context of the object that calls it. For example, we could add a method to the Person class that prints out a greeting:"
   ]
  },
  {
   "cell_type": "code",
   "execution_count": 78,
   "id": "a0a747a2",
   "metadata": {},
   "outputs": [],
   "source": [
    "class Person:\n",
    "    def __init__(self, name, age, gender, height, weight):\n",
    "        self.name = name\n",
    "        self.age = age\n",
    "        self.gender = gender\n",
    "        self.height = height\n",
    "        self.weight = weight\n",
    "\n",
    "    def say_hello(self, name):\n",
    "        print(f\"Hello {name}, my name is {self.name}. I am {self.age} years old.\")"
   ]
  },
  {
   "cell_type": "code",
   "execution_count": 79,
   "id": "0dc5f160",
   "metadata": {},
   "outputs": [],
   "source": [
    "person1 = Person(\"Radha\", 25, \"female\", 1.6, 60)\n",
    "person2 = Person(\"Ram\", 25, \"male\", 1.6, 60)"
   ]
  },
  {
   "cell_type": "code",
   "execution_count": 80,
   "id": "d4b2bb97",
   "metadata": {},
   "outputs": [
    {
     "data": {
      "text/plain": [
       "'Ram'"
      ]
     },
     "execution_count": 80,
     "metadata": {},
     "output_type": "execute_result"
    }
   ],
   "source": [
    "person2.name"
   ]
  },
  {
   "cell_type": "code",
   "execution_count": 81,
   "id": "b29f3bd2",
   "metadata": {
    "scrolled": true
   },
   "outputs": [
    {
     "name": "stdout",
     "output_type": "stream",
     "text": [
      "Hello Ram, my name is Radha. I am 25 years old.\n"
     ]
    }
   ],
   "source": [
    "person1.say_hello(person2.name)"
   ]
  },
  {
   "cell_type": "code",
   "execution_count": 82,
   "id": "69e01d76",
   "metadata": {},
   "outputs": [
    {
     "name": "stdout",
     "output_type": "stream",
     "text": [
      "Hello Krishna, my name is Ram. I am 25 years old.\n"
     ]
    }
   ],
   "source": [
    "person2.say_hello(\"Krishna\")"
   ]
  },
  {
   "cell_type": "code",
   "execution_count": 83,
   "id": "21773e30",
   "metadata": {},
   "outputs": [
    {
     "name": "stdout",
     "output_type": "stream",
     "text": [
      "Hello raju, my name is Radha. I am 25 years old.\n"
     ]
    }
   ],
   "source": [
    "Person.say_hello(person1,\"raju\")"
   ]
  },
  {
   "cell_type": "code",
   "execution_count": 84,
   "id": "8f9ed8c6",
   "metadata": {},
   "outputs": [],
   "source": [
    "class Person:\n",
    "    def __init__(self, name, age, gender, height, weight):\n",
    "        self.name = name\n",
    "        self.age = age\n",
    "        self.gender = gender\n",
    "        self.height = height\n",
    "        self.weight = weight\n",
    "\n",
    "    def say_hello(self):\n",
    "        print(f\"Hello, my name is {self.name}. I am {self.age} years old.\")\n",
    "\n",
    "    def get_bmi(self):\n",
    "        return self.weight / (self.height ** 2)"
   ]
  },
  {
   "cell_type": "code",
   "execution_count": 85,
   "id": "93259c92",
   "metadata": {},
   "outputs": [],
   "source": [
    "person1 = Person(\"Dhan Maya\", 25, \"female\", 1.6, 60)\n",
    "person2 = Person(\"Dhan Bahadur\", 30, \"male\", 1.8, 80)"
   ]
  },
  {
   "cell_type": "code",
   "execution_count": 86,
   "id": "7ddd8f2c",
   "metadata": {},
   "outputs": [
    {
     "name": "stdout",
     "output_type": "stream",
     "text": [
      "Hello, my name is Dhan Maya. I am 25 years old.\n"
     ]
    }
   ],
   "source": [
    "person1.say_hello()"
   ]
  },
  {
   "cell_type": "code",
   "execution_count": 87,
   "id": "a75725b6",
   "metadata": {},
   "outputs": [
    {
     "name": "stdout",
     "output_type": "stream",
     "text": [
      "Hello, my name is Dhan Bahadur. I am 30 years old.\n"
     ]
    }
   ],
   "source": [
    "person2.say_hello()"
   ]
  },
  {
   "cell_type": "code",
   "execution_count": 88,
   "id": "e08f557d",
   "metadata": {},
   "outputs": [
    {
     "data": {
      "text/plain": [
       "False"
      ]
     },
     "execution_count": 88,
     "metadata": {},
     "output_type": "execute_result"
    }
   ],
   "source": [
    "person1.get_bmi() > person2.get_bmi()"
   ]
  },
  {
   "cell_type": "markdown",
   "id": "fe48f51f",
   "metadata": {},
   "source": [
    "When learning object-oriented programming (OOP) for the first time, understanding the concepts of self, methods, and constructors can be a bit confusing. Here is a brief explanation of each concept:\n",
    "\n",
    "1. Self:<br>\n",
    "In OOP, the term \"self\" refers to the instance of a class that is currently being operated on. It is a reference to the object itself. When we create an object from a class, the object has its own unique properties and values, which we can access using the \"self\" keyword. In other words, \"self\" is a way for us to access the attributes and methods of an object from within the object itself.\n",
    "\n",
    "\n",
    "2. Methods:<br>\n",
    "A method is a function that is associated with a class or an object. It represents a behavior or an action that the object can perform. In Python, methods are defined inside a class and can access the object's attributes using the \"self\" keyword. For example, if we have a Person class, we might define a method called \"speak\" that allows the person to say something.\n",
    "\n",
    "\n",
    "3. Constructors:<br>\n",
    "A constructor is a special type of method that is called when an object is created from a class. It is used to initialize the object's attributes and values. In Python, the constructor method is called \"init\" and takes in the \"self\" parameter, as well as any other parameters that we want to use to initialize the object's attributes. For example, if we have a Person class, we might define a constructor that takes in the person's name, age, and gender and initializes those attributes for the object."
   ]
  },
  {
   "cell_type": "markdown",
   "id": "a612df96",
   "metadata": {},
   "source": [
    "# Always Remember\n",
    "In Python, a class is like a blueprint for creating objects. A class defines the attributes (i.e. variables) and methods (i.e. functions) that an object will have, but it doesn't actually create the object itself. To create an object, you need to create an instance of the class.\n",
    "\n",
    "Here's an example Dog class:"
   ]
  },
  {
   "cell_type": "code",
   "execution_count": 89,
   "id": "f7f379d1",
   "metadata": {},
   "outputs": [],
   "source": [
    "class Dog:\n",
    "    def __init__(self, name, breed, age):\n",
    "        self.name = name\n",
    "        self.breed = breed\n",
    "        self.age = age\n",
    "\n",
    "    def bark(self):\n",
    "        print(f\"{self.name} says woof!\")\n",
    "        \n",
    "    def sit(self):\n",
    "        print(f\"{self.name} is sitting!!\")\n",
    "        \n",
    "    def greet(self):\n",
    "        print(f\"{self.name} says Woof Hooman!\")\n"
   ]
  },
  {
   "cell_type": "markdown",
   "id": "6ff11f2d",
   "metadata": {},
   "source": [
    "In this example, the Dog class has three attributes: name, breed, and age. The init method is a constructor, which is called when a new instance of the Dog class is created. The constructor takes in three parameters: name, breed, and age. It then sets the instance's name, breed, and age attributes to the values of those parameters.\n",
    "\n",
    "The Dog class also has a bark method, which simply prints out a message indicating that the dog has barked. The bark method takes in a self parameter, which refers to the instance of the Dog class that the method is being called on and same for sit and greet methods.\n",
    "\n",
    "To create an instance of the Dog class, you simply call the class like a function and pass in the required parameters:"
   ]
  },
  {
   "cell_type": "code",
   "execution_count": 90,
   "id": "b67989c1",
   "metadata": {},
   "outputs": [],
   "source": [
    "my_dog = Dog(\"Kaley\", \"Golden Retriever\", 5)"
   ]
  },
  {
   "cell_type": "code",
   "execution_count": 91,
   "id": "57d3c402",
   "metadata": {},
   "outputs": [
    {
     "data": {
      "text/plain": [
       "('Kaley', 'Golden Retriever', 5)"
      ]
     },
     "execution_count": 91,
     "metadata": {},
     "output_type": "execute_result"
    }
   ],
   "source": [
    "my_dog.name, my_dog.breed, my_dog.age"
   ]
  },
  {
   "cell_type": "code",
   "execution_count": 92,
   "id": "27b7b408",
   "metadata": {},
   "outputs": [
    {
     "name": "stdout",
     "output_type": "stream",
     "text": [
      "Kaley says woof!\n"
     ]
    }
   ],
   "source": [
    "my_dog.bark()"
   ]
  },
  {
   "cell_type": "code",
   "execution_count": 93,
   "id": "00093027",
   "metadata": {},
   "outputs": [
    {
     "name": "stdout",
     "output_type": "stream",
     "text": [
      "Kaley is sitting!!\n"
     ]
    }
   ],
   "source": [
    "my_dog.sit()"
   ]
  },
  {
   "cell_type": "code",
   "execution_count": 94,
   "id": "10fa503b",
   "metadata": {},
   "outputs": [
    {
     "name": "stdout",
     "output_type": "stream",
     "text": [
      "Kaley says Woof Hooman!\n"
     ]
    }
   ],
   "source": [
    "my_dog.greet()"
   ]
  },
  {
   "cell_type": "markdown",
   "id": "d419ad89",
   "metadata": {},
   "source": [
    "# Double Underscore (Dunder) Methods\n",
    "Here are the most popular and widely used list of Special or dunder methods in Python.\n",
    "\n",
    "## Basic Customizations\n",
    "__new__(self) return a new object (an instance of that class). It is called before __init__ method.\n",
    "\n",
    "__init__(self) is called when the object is initialized. It is the constructor of a class.\n",
    "\n",
    "__del__(self) for del() function. Called when the object is to be destroyed. Can be used to commit unsaved data or close connections.\n",
    "\n",
    "__repr__(self) for repr() function. It returns a string to print the object. Intended for developers to debug. Must be implemented in any class.\n",
    "\n",
    "__str__(self) for str() function. Return a string to print the object. Intended for users to see a pretty and useful output. If not implemented, __repr__ will be used as a fallback.\n",
    "\n",
    "__bytes__(self) for bytes() function. Return a byte object which is the byte string representation of the object.\n",
    "\n",
    "__format__(self) for format() function. Evaluate formatted string literals like % for percentage format and ‘b’ for binary.\n",
    "\n",
    "__lt__(self, anotherObj) for < operator.\n",
    "\n",
    "__le__(self, anotherObj) for <= operator.\n",
    "\n",
    "__eq__(self, anotherObj) for == operator.\n",
    "\n",
    "__ne__(self, anotherObj) for != operator.\n",
    "\n",
    "__gt__(self, anotherObj)for > operator.\n",
    "\n",
    "__ge__(self, anotherObj)for >= operator.\n",
    "\n",
    "## Arithmetic Operators\n",
    "__add__(self, anotherObj) for + operator.\n",
    "\n",
    "__sub__(self, anotherObj) for – operation on object.\n",
    "\n",
    "__mul__(self, anotherObj) for * operation on object.\n",
    "\n",
    "__matmul__(self, anotherObj) for @ operator (numpy matrix multiplication).\n",
    "\n",
    "__truediv__(self, anotherObj) for simple / division operation on object.\n",
    "\n",
    "__floordiv__(self, anotherObj) for // floor division operation on object.\n",
    "## Type Conversion\n",
    "__abs__(self) make support for abs() function. Return absolute value.\n",
    "\n",
    "__int__(self) support for int() function. Returns the integer value of the object.\n",
    "\n",
    "__float__(self) for float() function support. Returns float equivalent of the object.\n",
    "\n",
    "__complex__(self) for complex() function support. Return complex value representation of the \n",
    "object.\n",
    "\n",
    "__round__(self, nDigits) for round() function. Round off float type to 2 digits and return \n",
    "it.\n",
    "\n",
    "__trunc__(self) for trunc() function of math module. Returns the real value of the object.\n",
    "\n",
    "__ceil__(self) for ceil() function of math module. The ceil function Return ceiling value of the object.\n",
    "\n",
    "__floor__(self) for floor() function of math module. Return floor value of the object.\n",
    "Emulating Container Types\n",
    "\n",
    "__len__(self) for len() function. Returns the total number in any container.\n",
    "\n",
    "__getitem__(self, key) to support indexing. LIke container[index] calls container.__getitem(key)explicitly.\n",
    "\n",
    "__setitem__(self, key, value) makes item mutable (items can be changed by index), like container[index] = otherElement.\n",
    "\n",
    "__delitem__(self, key) for del() function. Delete the value at the index key.\n",
    "\n",
    "__iter__(self) returns an iterator when required that iterates all values in the container."
   ]
  },
  {
   "cell_type": "code",
   "execution_count": 95,
   "id": "11c39747",
   "metadata": {},
   "outputs": [
    {
     "name": "stdout",
     "output_type": "stream",
     "text": [
      "2\n"
     ]
    },
    {
     "data": {
      "text/plain": [
       "4"
      ]
     },
     "execution_count": 95,
     "metadata": {},
     "output_type": "execute_result"
    }
   ],
   "source": [
    "class MyList:\n",
    "    def __init__(self, *args):\n",
    "        self.items = list(args)\n",
    "\n",
    "    def __getitem__(self, index):\n",
    "        return self.items[index]\n",
    "    \n",
    "    def __setitem__(self, index, value):\n",
    "        self.items[index] = value\n",
    "\n",
    "mylist = MyList(1, 2, 3)\n",
    "print(mylist[1]) \n",
    "\n",
    "mylist[1] = 4\n",
    "\n",
    "mylist[1]"
   ]
  },
  {
   "cell_type": "markdown",
   "id": "e3eeace9",
   "metadata": {},
   "source": [
    "# \\_\\_str__ and \\_\\_repr__ dunder methods in python\n",
    "\\_\\_repr__ and \\_\\_str__ are two special methods in Python that are used to control the string representation of objects.\n",
    "\n",
    "\\_\\_repr__ is used to define the \"official\" string representation of an object, which is meant to be unambiguous and suitable for debugging. The \\_\\_repr__ method should return a string that, when evaluated, would recreate the object. This means that the string returned by \\_\\_repr__ should be a valid Python expression.\n",
    "\n",
    "\\_\\_str__, on the other hand, is used to define the \"informal\" or \"user-friendly\" string representation of an object. The __str__ method should return a string that is human-readable and provides a concise summary of the object's state. Unlike \\_\\_repr__, the string returned by \\_\\_str__ does not have to be a valid Python expression.\n",
    "\n",
    "Here's an example code that demonstrates the use of \\_\\_repr__ and \\_\\_str__:"
   ]
  },
  {
   "cell_type": "code",
   "execution_count": 97,
   "id": "72ac2a66",
   "metadata": {},
   "outputs": [
    {
     "name": "stdout",
     "output_type": "stream",
     "text": [
      "Dhan Maya\n"
     ]
    }
   ],
   "source": [
    "print(person1) # Name, age"
   ]
  },
  {
   "cell_type": "code",
   "execution_count": 127,
   "id": "e201deb6",
   "metadata": {},
   "outputs": [],
   "source": [
    "class Point:\n",
    "    def __init__(self, x, y):\n",
    "        self.x = x\n",
    "        self.y = y\n",
    "\n",
    "    def __repr__(self):\n",
    "#         is for programmer to reproduce the object\n",
    "        return f\"Point({self.x}, {self.y})\"\n",
    "\n",
    "    def __str__(self):\n",
    "#         for the end user\n",
    "        return f\"({self.x}, {self.y})\"\n",
    "\n",
    "p = Point(3, 4)"
   ]
  },
  {
   "cell_type": "code",
   "execution_count": 128,
   "id": "c8c41f8c",
   "metadata": {},
   "outputs": [
    {
     "data": {
      "text/plain": [
       "('(3, 4) is the point', 'Point(3, 4)')"
      ]
     },
     "execution_count": 128,
     "metadata": {},
     "output_type": "execute_result"
    }
   ],
   "source": [
    "f\"{p} is the point\", repr(p)"
   ]
  },
  {
   "cell_type": "markdown",
   "id": "47456556",
   "metadata": {},
   "source": [
    "# Introduction to Inheritance and Polymorphism\n",
    "In Python, inheritance is a way to create a new class that is a modified version of an existing class. The new class, called the subclass, inherits all the attributes and methods of the existing class, called the superclass. The subclass can then add new attributes and methods, or override the existing ones, to create a new class that is more specific or specialized.\n",
    "\n",
    "In Python, polymorphism is the ability of an object to take on multiple forms. This means that different objects can be used interchangeably even if they belong to different classes. Polymorphism is achieved through the use of inheritance and interfaces.\n",
    "\n",
    "Here's an example of how inheritance and polymorphism works in Python:"
   ]
  },
  {
   "cell_type": "code",
   "execution_count": 145,
   "id": "06ac9089",
   "metadata": {},
   "outputs": [
    {
     "name": "stdout",
     "output_type": "stream",
     "text": [
      "Fido\n",
      "Dog\n",
      "Golden Retriever\n",
      "The dog barks.\n",
      "Whiskers\n",
      "Cat\n",
      "Gray\n"
     ]
    }
   ],
   "source": [
    "class Animal:\n",
    "    def __init__(self, name, species):\n",
    "        self.name = name\n",
    "        self.species = species\n",
    "    \n",
    "    def make_sound(self):\n",
    "        return f\"The {self.name} makes a sound.\"\n",
    "    \n",
    "    @property\n",
    "    def get_species(self):\n",
    "        return self.species\n",
    "\n",
    "    \n",
    "class Dog(Animal):\n",
    "    def __init__(self, name, breed):\n",
    "        super().__init__(name, species=\"Dog\")\n",
    "        self.breed = breed\n",
    "    \n",
    "    def make_sound(self):\n",
    "        return \"The dog barks.\"\n",
    "\n",
    "    \n",
    "class Cat(Animal):\n",
    "    def __init__(self, name, color, breed):\n",
    "        super().__init__(name, species=\"Cat\")\n",
    "        self.color = color\n",
    "        self.breed = breed\n",
    "    \n",
    "    def make_sound(self):\n",
    "        return \"The cat meows.\"\n",
    "\n",
    "    \n",
    "dog = Dog(\"Fido\", \"Golden Retriever\")\n",
    "cat = Cat(\"Whiskers\", \"Gray\", 'British shorthair')\n",
    "\n",
    "print(dog.name) # Output: Fido\n",
    "print(dog.species) # Output: Dog\n",
    "print(dog.breed) # Output: Golden Retriever\n",
    "print(dog.make_sound()) # Output: The dog barks.\n",
    "\n",
    "print(cat.name) # Output: Whiskers\n",
    "print(cat.species) # Output: Cat\n",
    "print(cat.color) # Output: Gray\n",
    "cat.make_sound() # Output: The cat meows.\n",
    "\n",
    "jaguar = Animal(\"Black Panter\", \"Big Cat\")"
   ]
  },
  {
   "cell_type": "code",
   "execution_count": 147,
   "id": "5e954a13",
   "metadata": {},
   "outputs": [
    {
     "data": {
      "text/plain": [
       "'Dog'"
      ]
     },
     "execution_count": 147,
     "metadata": {},
     "output_type": "execute_result"
    }
   ],
   "source": [
    "dog.get_species"
   ]
  },
  {
   "cell_type": "markdown",
   "id": "f78cefc3",
   "metadata": {},
   "source": [
    "In this example, Animal is the superclass, and Dog and Cat are subclasses. The Dog and Cat classes inherit the \\_\\_init__ and make_sound methods from the Animal class, but they also define their own unique attributes and methods.\n",
    "\n",
    "The Dog class overrides the make_sound method of the Animal class, to make it more specific to dogs. The Cat class also overrides the make_sound method, to make it more specific to cats.\n",
    "\n",
    "When we create instances of the Dog and Cat classes, they inherit the attributes and methods of their superclass, but also have their own unique attributes and methods.\n",
    "\n",
    "Overall, inheritance in Python is a powerful way to create new classes that are based on existing classes, and can help you write more efficient, readable, and maintainable code."
   ]
  },
  {
   "cell_type": "code",
   "execution_count": 135,
   "id": "17549ea9",
   "metadata": {},
   "outputs": [
    {
     "data": {
      "text/plain": [
       "('The dog barks.', 'The cat meows.', 'The Black Panter makes a sound.')"
      ]
     },
     "execution_count": 135,
     "metadata": {},
     "output_type": "execute_result"
    }
   ],
   "source": [
    "def animal_speak(animal):\n",
    "    return animal.make_sound()\n",
    "\n",
    "animal_speak(dog), animal_speak(cat), animal_speak(jaguar)"
   ]
  },
  {
   "cell_type": "markdown",
   "id": "d0ffe392",
   "metadata": {},
   "source": [
    "Finally, we have a function called animal_speak that takes an Animal object as an argument and calls its speak method. This function demonstrates polymorphism, as it can be used with any Animal object, whether it is a Dog, Cat, or any other subclass of Animal.\n",
    "\n",
    "When we create a Dog object and a Cat object, and pass them to the animal_speak function, we get the expected output, demonstrating that the speak method of each subclass is called correctly.\n",
    "\n",
    "In summary, inheritance allows for the reuse of code from a superclass in its subclasses, while polymorphism allows for the interchangeability of objects of different classes that share a common interface (in this case, the speak method)."
   ]
  },
  {
   "cell_type": "markdown",
   "id": "0b4786b5",
   "metadata": {},
   "source": [
    "# Decorators and their uses in python and OOP\n",
    "In Python, a decorator is a function or a class that allows you to modify the behavior of another function or class without changing its source code. A decorator takes in a function or a class as an argument and returns a modified function or class.\n",
    "\n",
    "Decorators are typically used to add functionality to existing functions or classes, or to modify their behavior. For example, you can use a decorator to add logging to a function, to cache the results of a function, or to time the execution of a function.\n",
    "\n",
    "Here is an example of a simple decorator that adds logging to a function:"
   ]
  },
  {
   "cell_type": "code",
   "execution_count": 46,
   "id": "edea4aa2",
   "metadata": {},
   "outputs": [
    {
     "name": "stdout",
     "output_type": "stream",
     "text": [
      "Calling function my_function\n",
      "Hello, world!\n",
      "Finished calling function my_function\n"
     ]
    }
   ],
   "source": [
    "def log_decorator(func):\n",
    "    def wrapper(*args, **kwargs):\n",
    "        print(f\"Calling function {func.__name__}\")\n",
    "        result = func(*args, **kwargs)\n",
    "        print(f\"Finished calling function {func.__name__}\")\n",
    "        return result\n",
    "    return wrapper\n",
    "\n",
    "@log_decorator\n",
    "def my_function():\n",
    "    print(\"Hello, world!\")\n",
    "\n",
    "my_function()\n"
   ]
  },
  {
   "cell_type": "markdown",
   "id": "d0deddb8",
   "metadata": {},
   "source": [
    "In this example, the log_decorator function is a decorator that takes in a function as an argument and returns a new function wrapper that adds logging before and after calling the original function. The @log_decorator syntax is a shorthand way of applying the decorator to the my_function function. When my_function is called, it will now print a message before and after printing \"Hello, world!\".\n",
    "\n",
    "<br>\n",
    "\n",
    "### What are \\*args and \\*\\*kwargs in the wrapper function?\n",
    "In the log_decorator function, \\*args and \\*\\*kwargs are used to capture any arbitrary positional and keyword arguments that may be passed to the wrapped function.\n",
    "\n",
    "The \\*args syntax allows any number of positional arguments to be passed to the function as a tuple, while the \\*\\*kwargs syntax allows any number of keyword arguments to be passed to the function as a dictionary.\n",
    "\n",
    "The wrapper function defined inside the log_decorator takes in \\*args and \\*\\*kwargs as arguments. When wrapper is called, it passes those arguments to the original function func using the syntax func(\\*args, \\*\\*kwargs).\n",
    "\n",
    "This means that if the wrapped function has any positional or keyword arguments, they will be passed through to the wrapped function when it is called.\n",
    "\n",
    "For example, if we have a function my_function that takes in two positional arguments, we can wrap it with the log_decorator and call it like this\""
   ]
  },
  {
   "cell_type": "code",
   "execution_count": 47,
   "id": "aa5aa092",
   "metadata": {},
   "outputs": [
    {
     "name": "stdout",
     "output_type": "stream",
     "text": [
      "Calling function my_function\n",
      "arg1: foo, arg2: bar\n",
      "Finished calling function my_function\n"
     ]
    }
   ],
   "source": [
    "def log_decorator(func):\n",
    "    def wrapper(*args, **kwargs):\n",
    "        print(f\"Calling function {func.__name__}\")\n",
    "        result = func(*args, **kwargs)\n",
    "        print(f\"Finished calling function {func.__name__}\")\n",
    "        return result\n",
    "    return wrapper\n",
    "\n",
    "@log_decorator\n",
    "def my_function(arg1, arg2):\n",
    "    print(f\"arg1: {arg1}, arg2: {arg2}\")\n",
    "\n",
    "my_function(\"foo\", \"bar\")\n"
   ]
  },
  {
   "cell_type": "markdown",
   "id": "ac549415",
   "metadata": {},
   "source": [
    "In Python, * (asterisk) and ** (double-asterisk) are used for unpacking iterables and dictionaries, respectively.\n",
    "\n",
    "The * operator can be used to unpack a list, tuple, or any other iterable into separate positional arguments."
   ]
  },
  {
   "cell_type": "code",
   "execution_count": 48,
   "id": "c68e01c8",
   "metadata": {},
   "outputs": [
    {
     "name": "stdout",
     "output_type": "stream",
     "text": [
      "1 2 3\n"
     ]
    }
   ],
   "source": [
    "my_list = [1, 2, 3]\n",
    "print(*my_list) # prints \"1 2 3\""
   ]
  },
  {
   "cell_type": "code",
   "execution_count": 49,
   "id": "036ee32d",
   "metadata": {},
   "outputs": [
    {
     "name": "stdout",
     "output_type": "stream",
     "text": [
      "1 2 3\n",
      "1 2 3\n"
     ]
    }
   ],
   "source": [
    "my_dict = {\"a\": 1, \"b\": 2, \"c\": 3}\n",
    "# **my_dict = a = 1,b = 2, c = 3\n",
    "# *my_list 1, 2, 3\n",
    "\n",
    "def foo(a,b,c):\n",
    "    print(a,b,c)\n",
    "    \n",
    "foo(**my_dict) # equivalent to foo(a=1, b=2, c=3)\n",
    "foo(*my_list) # equivalent to foo(1,2,3)"
   ]
  },
  {
   "cell_type": "markdown",
   "id": "33a70d6e",
   "metadata": {},
   "source": [
    "In the context of function definitions, \\*args and \\*\\*kwargs are used to capture any arbitrary positional and keyword arguments that may be passed to the function, respectively. When a function is called with \\*args and/or \\*\\*kwargs, the arguments are automatically packed into a tuple and/or dictionary, respectively, before being passed to the function.\n",
    "\n"
   ]
  },
  {
   "cell_type": "code",
   "execution_count": 57,
   "id": "7c268422",
   "metadata": {},
   "outputs": [
    {
     "data": {
      "text/plain": [
       "42"
      ]
     },
     "execution_count": 57,
     "metadata": {},
     "output_type": "execute_result"
    }
   ],
   "source": [
    "def add(*args):\n",
    "    su= 0\n",
    "    for item in args:\n",
    "        su += item\n",
    "    return su\n",
    "\n",
    "add(4,5,6,8,9,10)"
   ]
  },
  {
   "cell_type": "markdown",
   "id": "5d60ee5f",
   "metadata": {},
   "source": [
    "In this example, the my_function takes in \\*args and \\*\\*kwargs as arguments. When my_function is called with my_function(1, 2, 3, a=4, b=5, c=6), the arguments 1, 2, 3 are packed into a tuple assigned to args, and the keyword arguments a=4, b=5, c=6 are packed into a dictionary assigned to kwargs.\n",
    "\n",
    "Note that the names args and kwargs are just convention and can be any valid variable names. Also note that \\*args must come before \\*\\*kwargs in the function definition."
   ]
  },
  {
   "cell_type": "code",
   "execution_count": 59,
   "id": "aae3bd43",
   "metadata": {},
   "outputs": [
    {
     "data": {
      "text/plain": [
       "11"
      ]
     },
     "execution_count": 59,
     "metadata": {},
     "output_type": "execute_result"
    }
   ],
   "source": [
    "def minus_five(func):\n",
    "    def wrapper(*args,**kwargs):\n",
    "        result = func(*args,**kwargs)\n",
    "        result -= 5\n",
    "        return result\n",
    "    return wrapper\n",
    "\n",
    "@minus_five\n",
    "def add_minus_five(x,y):\n",
    "    return x+y\n",
    "\n",
    "add_minus_five(10,y=6)"
   ]
  },
  {
   "cell_type": "markdown",
   "id": "24d3d9e8",
   "metadata": {},
   "source": [
    "## Decorators in Classes\n",
    "There are several built-in decorators in Python, including `@staticmethod`, `@property`, and `@classmethod`.\n",
    "### staticmethod\n",
    "`@staticmethod` is a decorator that can be applied to a method in a class to indicate that the method is a static method. A static method is a method that belongs to a class, but does not depend on the state of any particular instance of the class. This means that a static method can be called on the class itself, rather than on an instance of the class. To define a static method in Python, you use the `@staticmethod` decorator, as shown in the example below:"
   ]
  },
  {
   "cell_type": "code",
   "execution_count": 61,
   "id": "b14305b9",
   "metadata": {},
   "outputs": [
    {
     "name": "stdout",
     "output_type": "stream",
     "text": [
      "10\n",
      "7\n"
     ]
    }
   ],
   "source": [
    "class Calculator:\n",
    "    \n",
    "    def add_two(self):\n",
    "        return self.add(self.x,self.y)\n",
    "    \n",
    "    @staticmethod\n",
    "    def add(x, y):\n",
    "        return x + y\n",
    "    \n",
    "    @staticmethod\n",
    "    def mul(x,y):\n",
    "        return x*y\n",
    "calc = Calculator()\n",
    "calc.x = 5\n",
    "calc.y = 5\n",
    "print(calc.add_two())\n",
    "result = Calculator.add(3, 4)\n",
    "print(result) # prints 7"
   ]
  },
  {
   "cell_type": "markdown",
   "id": "53858f9e",
   "metadata": {},
   "source": [
    "In this example, my_static_method is defined as a static method using the `@staticmethod` decorator. The method takes two arguments, x and y, and returns their sum. The static method can be called on the class MyClass itself, rather than on an instance of the class."
   ]
  },
  {
   "cell_type": "markdown",
   "id": "1c9693c3",
   "metadata": {},
   "source": [
    "### property\n",
    "`@property` is a decorator that can be applied to a method in a class to create a read-only property. A property is an attribute of an object that is computed on the fly, rather than being stored as a value in memory. A read-only property is an attribute that can be accessed like a regular attribute, but cannot be modified directly. To define a property in Python, you use the `@property` decorator, as shown in the example below:\n",
    "\n"
   ]
  },
  {
   "cell_type": "code",
   "execution_count": 64,
   "id": "123dc9c3",
   "metadata": {},
   "outputs": [],
   "source": [
    "class Person:\n",
    "    def __init__(self, name, height, weight):\n",
    "        self.name = name\n",
    "        self.height = height\n",
    "        self.weight = weight\n",
    "\n",
    "    def say_hello(self):\n",
    "        print(f\"Hello, my name is {self.name}.\")\n",
    "        \n",
    "    @property\n",
    "    def get_bmi(self):\n",
    "        return self.weight / (self.height ** 2)"
   ]
  },
  {
   "cell_type": "markdown",
   "id": "a97dbf44",
   "metadata": {},
   "source": [
    "`@property` is used to define a method get_bmi as a \"getter\" method for the bmi attribute. In other words, when we call person.get_bmi, instead of invoking a method that takes no arguments and returns a value, we're accessing the get_bmi method as if it were an attribute of the person object.\n",
    "\n",
    "Here's an example of how this code might be used:"
   ]
  },
  {
   "cell_type": "code",
   "execution_count": 65,
   "id": "f50b8a17",
   "metadata": {},
   "outputs": [
    {
     "name": "stdout",
     "output_type": "stream",
     "text": [
      "21.224489795918366\n"
     ]
    }
   ],
   "source": [
    "person = Person('Krishna Kumari', 1.75, 65)\n",
    "print(person.get_bmi)  # prints 21.22"
   ]
  },
  {
   "cell_type": "markdown",
   "id": "0f35a4f2",
   "metadata": {},
   "source": [
    "In this example, we create a Person object named person with a name of 'Krishna Kumari', a height of 1.75 meters, and a weight of 65 kilograms. We then print the person's BMI by accessing the get_bmi method using the `@property` decorator.\n",
    "\n",
    "The get_bmi method calculates the person's BMI (body mass index) by dividing the weight in kilograms by the height squared in meters. By using the `@property` decorator, the get_bmi method can be accessed as an attribute of the person object, rather than as a method that requires parentheses, which can make the code look more readable and intuitive."
   ]
  },
  {
   "cell_type": "markdown",
   "id": "4b356ec3",
   "metadata": {},
   "source": [
    "### classmethod\n",
    "`@classmethod` is a decorator that can be applied to a method in a class to indicate that the method is a class method. A class method is a method that belongs to a class, rather than to an instance of the class. This means that a class method can be called on the class itself, rather than on an instance of the class. Class methods are often used as factory methods that create new instances of a class. To define a class method in Python, you use the `@classmethod` decorator, as shown in the example below:"
   ]
  },
  {
   "cell_type": "code",
   "execution_count": 68,
   "id": "bedbe2ec",
   "metadata": {},
   "outputs": [
    {
     "name": "stdout",
     "output_type": "stream",
     "text": [
      "3\n"
     ]
    }
   ],
   "source": [
    "class MyClass:\n",
    "    count = 0\n",
    "\n",
    "    def __init__(self):\n",
    "        MyClass.count += 1\n",
    "\n",
    "    @classmethod\n",
    "    def get_count(cls):\n",
    "        return cls.count\n",
    "\n",
    "obj1 = MyClass()\n",
    "obj2 = MyClass()\n",
    "obj3 = MyClass()\n",
    "\n",
    "print(MyClass.get_count()) # prints 3\n"
   ]
  },
  {
   "cell_type": "markdown",
   "id": "3c44e08b",
   "metadata": {},
   "source": [
    "In this example, MyClass has a class variable count that keeps track of the number of instances of the class that have been created. The constructor increments count each time a new instance of the class is created. The get_count method is defined as a class method using the `@classmethod` decorator. When get_count is called, it returns the value of count for the class itself, rather than for any particular instance of the class."
   ]
  },
  {
   "cell_type": "markdown",
   "id": "5ede9b8e",
   "metadata": {},
   "source": [
    "### Example of staticmethod and classmethod used in a Person class that makes a lot of sense"
   ]
  },
  {
   "cell_type": "code",
   "execution_count": 73,
   "id": "b5e61bd7",
   "metadata": {},
   "outputs": [
    {
     "name": "stdout",
     "output_type": "stream",
     "text": [
      "Ram Hari 25\n",
      "Shivaji the boss 28\n"
     ]
    }
   ],
   "source": [
    "import datetime\n",
    "\n",
    "class Person:\n",
    "    def __init__(self, name, age):\n",
    "        self.name = name\n",
    "        self.age = age\n",
    "\n",
    "    @staticmethod\n",
    "    def calculate_age(birthdate):\n",
    "#         birthday = 'yyyy-mm-dd'\n",
    "        birthdate = datetime.datetime.strptime(birthdate, '%Y-%m-%d')\n",
    "        today = datetime.date.today()\n",
    "#         calculate age example: 2023-2000-(0 or 1 i.e, birthday occured this year or not)\n",
    "        age = today.year - birthdate.year - \\\n",
    "                ((today.month, today.day) < (birthdate.month, birthdate.day))\n",
    "        return age\n",
    "\n",
    "    @classmethod\n",
    "    def from_birthdate(cls, name, birthdate):\n",
    "        age = cls.calculate_age(birthdate)\n",
    "        return cls(name, age)\n",
    "    \n",
    "    def __repr__(self):\n",
    "        return f\"Person('{self.name}', {self.age})\"\n",
    "    \n",
    "    def __str__(self):\n",
    "        return self.__repr__()\n",
    "    \n",
    "    def introduce(self):\n",
    "        return f\"hello, I am {self.name} and i am {self.age} years old\"\n",
    "\n",
    "person1 = Person('Ram Hari', 25)\n",
    "birthdate = \"1995-02-20\"\n",
    "person2 = Person.from_birthdate('Shivaji the boss', birthdate)\n",
    "\n",
    "print(person1.name, person1.age) # prints \"Alice 25\"\n",
    "print(person2.name, person2.age) # prints \"Bob 26\""
   ]
  },
  {
   "cell_type": "code",
   "execution_count": 74,
   "id": "edcdc57e",
   "metadata": {},
   "outputs": [
    {
     "data": {
      "text/plain": [
       "(Person('Ram Hari', 25), Person('Shivaji the boss', 28))"
      ]
     },
     "execution_count": 74,
     "metadata": {},
     "output_type": "execute_result"
    }
   ],
   "source": [
    "person1, person2"
   ]
  },
  {
   "cell_type": "code",
   "execution_count": 75,
   "id": "69ea20e9",
   "metadata": {},
   "outputs": [
    {
     "data": {
      "text/plain": [
       "'hello, I am Ram Hari and i am 25 years old'"
      ]
     },
     "execution_count": 75,
     "metadata": {},
     "output_type": "execute_result"
    }
   ],
   "source": [
    "person1.introduce()"
   ]
  },
  {
   "cell_type": "code",
   "execution_count": 76,
   "id": "b59f77cd",
   "metadata": {
    "scrolled": true
   },
   "outputs": [
    {
     "data": {
      "text/plain": [
       "'hello, I am Shivaji the boss and i am 28 years old'"
      ]
     },
     "execution_count": 76,
     "metadata": {},
     "output_type": "execute_result"
    }
   ],
   "source": [
    "person2.introduce()"
   ]
  },
  {
   "cell_type": "markdown",
   "id": "8b8badb6",
   "metadata": {},
   "source": [
    "In this example, the Person class has an \\_\\_init__ method that takes name and age as arguments and initializes the corresponding instance variables. It also has a `@staticmethod` method called calculate_age that takes a birthdate argument and calculates the age based on the current date. The `@classmethod` method called from_birthdate takes a name argument and a birthdate argument, calculates the age using the calculate_age method, and creates a new instance of the Person class with the calculated age and the given name.\n",
    "\n",
    "We create two instances of the Person class - person1 is initialized with a name and age, while person2 is created using the from_birthdate class method with a name and birthdate. The age attribute of person2 is calculated based on the birthdate argument using the calculate_age static method. The output shows that the age attribute of person2 is correctly calculated based on the birthdate."
   ]
  },
  {
   "cell_type": "markdown",
   "id": "9b9e8135",
   "metadata": {},
   "source": [
    "# Private methods and attributes \n",
    "In Python, there is no true concept of private attributes or methods, but there is a convention to indicate that certain attributes or methods should not be accessed or modified directly by external code. This convention is to prefix the attribute or method name with two underscores (__). By doing so, the attribute or method is \"name-mangled\" by Python, which means that its name is changed in a way that makes it harder to access from outside the class. However, it is still technically possible to access these \"private\" attributes and methods using the name-mangled version of their names, but this is not recommended.\n",
    "\n"
   ]
  },
  {
   "cell_type": "code",
   "execution_count": 1,
   "id": "e94dbb21",
   "metadata": {},
   "outputs": [
    {
     "name": "stdout",
     "output_type": "stream",
     "text": [
      "public\n"
     ]
    },
    {
     "ename": "AttributeError",
     "evalue": "'MyClass' object has no attribute '__private_attribute'",
     "output_type": "error",
     "traceback": [
      "\u001b[0;31m---------------------------------------------------------------------------\u001b[0m",
      "\u001b[0;31mAttributeError\u001b[0m                            Traceback (most recent call last)",
      "\u001b[0;32m/tmp/ipykernel_28718/1290685827.py\u001b[0m in \u001b[0;36m<module>\u001b[0;34m\u001b[0m\n\u001b[1;32m     15\u001b[0m \u001b[0mobj\u001b[0m \u001b[0;34m=\u001b[0m \u001b[0mMyClass\u001b[0m\u001b[0;34m(\u001b[0m\u001b[0;34m\"public\"\u001b[0m\u001b[0;34m,\u001b[0m \u001b[0;34m\"private\"\u001b[0m\u001b[0;34m)\u001b[0m\u001b[0;34m\u001b[0m\u001b[0;34m\u001b[0m\u001b[0m\n\u001b[1;32m     16\u001b[0m \u001b[0mprint\u001b[0m\u001b[0;34m(\u001b[0m\u001b[0mobj\u001b[0m\u001b[0;34m.\u001b[0m\u001b[0mpublic_attribute\u001b[0m\u001b[0;34m)\u001b[0m  \u001b[0;31m# prints \"public\"\u001b[0m\u001b[0;34m\u001b[0m\u001b[0;34m\u001b[0m\u001b[0m\n\u001b[0;32m---> 17\u001b[0;31m \u001b[0mprint\u001b[0m\u001b[0;34m(\u001b[0m\u001b[0mobj\u001b[0m\u001b[0;34m.\u001b[0m\u001b[0m__private_attribute\u001b[0m\u001b[0;34m)\u001b[0m  \u001b[0;31m# raises AttributeError\u001b[0m\u001b[0;34m\u001b[0m\u001b[0;34m\u001b[0m\u001b[0m\n\u001b[0m\u001b[1;32m     18\u001b[0m \u001b[0mobj\u001b[0m\u001b[0;34m.\u001b[0m\u001b[0mpublic_method\u001b[0m\u001b[0;34m(\u001b[0m\u001b[0;34m)\u001b[0m  \u001b[0;31m# prints \"This is a public method.\"\u001b[0m\u001b[0;34m\u001b[0m\u001b[0;34m\u001b[0m\u001b[0m\n\u001b[1;32m     19\u001b[0m \u001b[0mobj\u001b[0m\u001b[0;34m.\u001b[0m\u001b[0m__private_method\u001b[0m\u001b[0;34m(\u001b[0m\u001b[0;34m)\u001b[0m  \u001b[0;31m# raises AttributeError\u001b[0m\u001b[0;34m\u001b[0m\u001b[0;34m\u001b[0m\u001b[0m\n",
      "\u001b[0;31mAttributeError\u001b[0m: 'MyClass' object has no attribute '__private_attribute'"
     ]
    }
   ],
   "source": [
    "class MyClass:\n",
    "    def __init__(self, public_attribute, private_attribute):\n",
    "        self.public_attribute = public_attribute\n",
    "        self.__private_attribute = private_attribute\n",
    "\n",
    "    def public_method(self):\n",
    "        print(\"This is a public method.\")\n",
    "\n",
    "    def __private_method(self):\n",
    "        print(\"This is a private method.\")\n",
    "\n",
    "    def call_private_method(self):\n",
    "        self.__private_method()\n",
    "\n",
    "obj = MyClass(\"public\", \"private\")\n",
    "print(obj.public_attribute)  # prints \"public\"\n",
    "print(obj.__private_attribute)  # raises AttributeError\n",
    "obj.public_method()  # prints \"This is a public method.\"\n",
    "obj.__private_method()  # raises AttributeError\n",
    "obj.call_private_method()  # prints \"This is a private method.\""
   ]
  },
  {
   "cell_type": "markdown",
   "id": "290272a5",
   "metadata": {},
   "source": [
    "In this example, the `MyClass` class has two attributes, one public (public_attribute) and one private (\\_\\_private_attribute). Similarly, it has two methods, one public (public_method) and one private (\\_\\_private_method).\n",
    "\n",
    "The public_method can be called from outside the class by any code that has an instance of the class. However, the \\_\\_private_method is only accessible from within the class itself. Attempting to access \\_\\_private_attribute from outside the class will raise an AttributeError. Note that the name-mangled version of the attribute name is _MyClass__private_attribute.\n",
    "\n",
    "Now, let's talk about how `@property` can be used to benefit from private attributes. `@property` is often used to create \"getter\" and \"setter\" methods for attributes, even private attributes. This allows us to control how the attribute is accessed or modified from outside the class, while still keeping it private. Here's an example:"
   ]
  },
  {
   "cell_type": "code",
   "execution_count": 2,
   "id": "e61610c1",
   "metadata": {},
   "outputs": [
    {
     "name": "stdout",
     "output_type": "stream",
     "text": [
      "10\n",
      "20\n"
     ]
    },
    {
     "ename": "ValueError",
     "evalue": "Attribute value cannot be negative.",
     "output_type": "error",
     "traceback": [
      "\u001b[0;31m---------------------------------------------------------------------------\u001b[0m",
      "\u001b[0;31mValueError\u001b[0m                                Traceback (most recent call last)",
      "\u001b[0;32m/tmp/ipykernel_28718/3226859887.py\u001b[0m in \u001b[0;36m<module>\u001b[0;34m\u001b[0m\n\u001b[1;32m     17\u001b[0m \u001b[0mobj\u001b[0m\u001b[0;34m.\u001b[0m\u001b[0mprivate_attribute\u001b[0m \u001b[0;34m=\u001b[0m \u001b[0;36m20\u001b[0m\u001b[0;34m\u001b[0m\u001b[0;34m\u001b[0m\u001b[0m\n\u001b[1;32m     18\u001b[0m \u001b[0mprint\u001b[0m\u001b[0;34m(\u001b[0m\u001b[0mobj\u001b[0m\u001b[0;34m.\u001b[0m\u001b[0mprivate_attribute\u001b[0m\u001b[0;34m)\u001b[0m  \u001b[0;31m# prints 20\u001b[0m\u001b[0;34m\u001b[0m\u001b[0;34m\u001b[0m\u001b[0m\n\u001b[0;32m---> 19\u001b[0;31m \u001b[0mobj\u001b[0m\u001b[0;34m.\u001b[0m\u001b[0mprivate_attribute\u001b[0m \u001b[0;34m=\u001b[0m \u001b[0;34m-\u001b[0m\u001b[0;36m5\u001b[0m  \u001b[0;31m# raises ValueError\u001b[0m\u001b[0;34m\u001b[0m\u001b[0;34m\u001b[0m\u001b[0m\n\u001b[0m",
      "\u001b[0;32m/tmp/ipykernel_28718/3226859887.py\u001b[0m in \u001b[0;36mprivate_attribute\u001b[0;34m(self, value)\u001b[0m\n\u001b[1;32m     10\u001b[0m     \u001b[0;32mdef\u001b[0m \u001b[0mprivate_attribute\u001b[0m\u001b[0;34m(\u001b[0m\u001b[0mself\u001b[0m\u001b[0;34m,\u001b[0m \u001b[0mvalue\u001b[0m\u001b[0;34m)\u001b[0m\u001b[0;34m:\u001b[0m\u001b[0;34m\u001b[0m\u001b[0;34m\u001b[0m\u001b[0m\n\u001b[1;32m     11\u001b[0m         \u001b[0;32mif\u001b[0m \u001b[0mvalue\u001b[0m \u001b[0;34m<\u001b[0m \u001b[0;36m0\u001b[0m\u001b[0;34m:\u001b[0m\u001b[0;34m\u001b[0m\u001b[0;34m\u001b[0m\u001b[0m\n\u001b[0;32m---> 12\u001b[0;31m             \u001b[0;32mraise\u001b[0m \u001b[0mValueError\u001b[0m\u001b[0;34m(\u001b[0m\u001b[0;34m\"Attribute value cannot be negative.\"\u001b[0m\u001b[0;34m)\u001b[0m\u001b[0;34m\u001b[0m\u001b[0;34m\u001b[0m\u001b[0m\n\u001b[0m\u001b[1;32m     13\u001b[0m         \u001b[0mself\u001b[0m\u001b[0;34m.\u001b[0m\u001b[0m__private_attribute\u001b[0m \u001b[0;34m=\u001b[0m \u001b[0mvalue\u001b[0m\u001b[0;34m\u001b[0m\u001b[0;34m\u001b[0m\u001b[0m\n\u001b[1;32m     14\u001b[0m \u001b[0;34m\u001b[0m\u001b[0m\n",
      "\u001b[0;31mValueError\u001b[0m: Attribute value cannot be negative."
     ]
    }
   ],
   "source": [
    "class MyClass:\n",
    "    def __init__(self, private_attribute):\n",
    "        self.__private_attribute = private_attribute\n",
    "\n",
    "    @property\n",
    "    def private_attribute(self):\n",
    "        return self.__private_attribute\n",
    "\n",
    "    @private_attribute.setter\n",
    "    def private_attribute(self, value):\n",
    "        if value < 0:\n",
    "            raise ValueError(\"Attribute value cannot be negative.\")\n",
    "        self.__private_attribute = value\n",
    "\n",
    "obj = MyClass(10)\n",
    "print(obj.private_attribute)  # prints 10\n",
    "obj.private_attribute = 20\n",
    "print(obj.private_attribute)  # prints 20\n",
    "obj.private_attribute = -5  # raises ValueError\n"
   ]
  },
  {
   "cell_type": "markdown",
   "id": "9bff267d",
   "metadata": {},
   "source": [
    "In this example, we define a private attribute \\_\\_private_attribute and create a \"getter\" method for it using `@property`. We also define a \"setter\" method for the attribute using `@property.setter`. This allows us to control how the attribute is modified from outside the class. In this case, we check whether the new value is negative before allowing it to be set. If it is negative, we raise a ValueError. Otherwise, we set the attribute to the new value. By using `@property` in this way, we can keep the attribute private while still allowing controlled access and modification from outside the class."
   ]
  },
  {
   "cell_type": "code",
   "execution_count": 19,
   "id": "dda38017",
   "metadata": {},
   "outputs": [
    {
     "name": "stdout",
     "output_type": "stream",
     "text": [
      "1000\n",
      "800\n",
      "Account number: 123456789, Balance: 1000\n"
     ]
    }
   ],
   "source": [
    "class BankAccount:\n",
    "    def __init__(self, account_number, initial_balance):\n",
    "        self.__account_number = account_number\n",
    "        self.__balance = initial_balance\n",
    "\n",
    "    def deposit(self, amount):\n",
    "        self.__balance += amount\n",
    "\n",
    "    def withdraw(self, amount):\n",
    "        if self.__balance >= amount:\n",
    "            self.__balance -= amount\n",
    "        else:\n",
    "            print(\"Insufficient funds.\")\n",
    "\n",
    "    def __update_balance(self, amount):\n",
    "        self.__balance += amount\n",
    "\n",
    "    def transfer(self, amount, destination_account):\n",
    "        self.withdraw(amount)\n",
    "        destination_account.__update_balance(amount)\n",
    "\n",
    "    def get_balance(self):\n",
    "        return self.__balance\n",
    "\n",
    "    def __str__(self):\n",
    "        return f\"Account number: {self.__account_number}, Balance: {self.__balance}\"\n",
    "    \n",
    "    @property\n",
    "    def account_number(self):\n",
    "        return self.__account_number\n",
    "    \n",
    "    @account_number.setter\n",
    "    def __change_acc_no(self,val):\n",
    "        self.__account_number = val\n",
    "        \n",
    "    def change_acc_no(self, banker, branch, new_acc_num):\n",
    "#         put banker and branch in log or database\n",
    "        print((\n",
    "                \"{} from {} branch changed account number\"\n",
    "                \"from {} to {}\").format(banker,branch,self.__account_number, new_acc_num))\n",
    "#     or self.__account_number = new_acc_num both will work fine but using \n",
    "# the setter can help perform additional stuffs\n",
    "\n",
    "        self.__change_acc_no = new_acc_num\n",
    "\n",
    "account1 = BankAccount(\"123456789\", 1000)\n",
    "account2 = BankAccount(\"987654321\", 500)\n",
    "\n",
    "account1.deposit(500)\n",
    "account1.withdraw(200)\n",
    "account1.transfer(300, account2)\n",
    "\n",
    "print(account1.get_balance())  # prints 1000\n",
    "print(account2.get_balance())  # prints 800\n",
    "\n",
    "print(account1)  # prints \"Account number: 123456789, Balance: 700\"\n"
   ]
  },
  {
   "cell_type": "code",
   "execution_count": 14,
   "id": "120c2876",
   "metadata": {},
   "outputs": [
    {
     "data": {
      "text/plain": [
       "'123456789'"
      ]
     },
     "execution_count": 14,
     "metadata": {},
     "output_type": "execute_result"
    }
   ],
   "source": [
    "account1.account_number"
   ]
  },
  {
   "cell_type": "code",
   "execution_count": 15,
   "id": "0b6dec9e",
   "metadata": {},
   "outputs": [
    {
     "ename": "AttributeError",
     "evalue": "can't set attribute",
     "output_type": "error",
     "traceback": [
      "\u001b[0;31m---------------------------------------------------------------------------\u001b[0m",
      "\u001b[0;31mAttributeError\u001b[0m                            Traceback (most recent call last)",
      "\u001b[0;32m/tmp/ipykernel_28718/3400367337.py\u001b[0m in \u001b[0;36m<module>\u001b[0;34m\u001b[0m\n\u001b[0;32m----> 1\u001b[0;31m \u001b[0maccount1\u001b[0m\u001b[0;34m.\u001b[0m\u001b[0maccount_number\u001b[0m \u001b[0;34m=\u001b[0m \u001b[0;36m215447\u001b[0m\u001b[0;34m\u001b[0m\u001b[0;34m\u001b[0m\u001b[0m\n\u001b[0m",
      "\u001b[0;31mAttributeError\u001b[0m: can't set attribute"
     ]
    }
   ],
   "source": [
    "account1.account_number = 16000"
   ]
  },
  {
   "cell_type": "code",
   "execution_count": 16,
   "id": "22ed9f7e",
   "metadata": {},
   "outputs": [
    {
     "name": "stdout",
     "output_type": "stream",
     "text": [
      "Rishi Dhamala from maobad branch branch changed account numberfrom 123456789 to 17000\n"
     ]
    }
   ],
   "source": [
    "account1.change_acc_no(\"Rishi Dhamala\", \"maobad branch\", \"17000\")"
   ]
  },
  {
   "cell_type": "code",
   "execution_count": 18,
   "id": "2dcdd63c",
   "metadata": {},
   "outputs": [
    {
     "data": {
      "text/plain": [
       "'Account number: 17000, Balance: 1000'"
      ]
     },
     "execution_count": 18,
     "metadata": {},
     "output_type": "execute_result"
    }
   ],
   "source": [
    "str(account1)"
   ]
  },
  {
   "cell_type": "markdown",
   "id": "19c8c0ab",
   "metadata": {},
   "source": [
    "In this example, we define a BankAccount class that has two private attributes, \\_\\_account_number and \\_\\_balance. These attributes are not accessible directly from outside the class. Instead, we define public methods like deposit, withdraw, and get_balance that allow controlled access to these attributes. The transfer method is also defined to allow transferring funds between accounts.\n",
    "\n",
    "Additionally, we define a private method \\_\\_update_balance that is only called internally from within the class. This method is used by the transfer method to update the balance of the destination account.\n",
    "\n",
    "Finally, we define a private method \\_\\_str__ that overrides the default \\_\\_str__ method to provide a string representation of the object that includes the account number and balance.\n",
    "\n",
    "By using private methods and attributes in this way, we can encapsulate the internal workings of the BankAccount class and prevent external code from accessing or modifying these attributes directly. This helps to ensure the integrity of the account data and reduce the risk of errors or fraud.\n",
    "\n",
    "code has a `@property` decorator and a corresponding account_number method to the BankAccount class. This allows external code to access the account number attribute in a read-only fashion using the dot notation.\n",
    "\n",
    "However, it also has a `@account_number.setter` decorator and a corresponding \\_\\_change_acc_no method. This allows external code to modify the account number attribute using the dot notation as well, but only by calling the change_acc_no method.\n",
    "\n",
    "The change_acc_no method takes additional parameters banker and branch, which are intended to be logged or recorded in some way to keep track of the changes made to the account. The method also prints a message indicating the change made.\n",
    "\n",
    "By using a setter method to modify the account number attribute, we can perform additional checks or operations before allowing the change to happen. For example, we could check if the new account number is already in use, or we could log the change to a database for auditing purposes. This helps to ensure the integrity and security of the account data."
   ]
  },
  {
   "cell_type": "markdown",
   "id": "9e49dbca",
   "metadata": {},
   "source": [
    "# Assignment: view Assignment.ipynb tab and follow."
   ]
  },
  {
   "cell_type": "code",
   "execution_count": null,
   "id": "7a0cf8cd",
   "metadata": {},
   "outputs": [],
   "source": []
  },
  {
   "cell_type": "code",
   "execution_count": null,
   "id": "c9eb9d3c",
   "metadata": {},
   "outputs": [],
   "source": []
  }
 ],
 "metadata": {
  "kernelspec": {
   "display_name": "Python 3 (ipykernel)",
   "language": "python",
   "name": "python3"
  },
  "language_info": {
   "codemirror_mode": {
    "name": "ipython",
    "version": 3
   },
   "file_extension": ".py",
   "mimetype": "text/x-python",
   "name": "python",
   "nbconvert_exporter": "python",
   "pygments_lexer": "ipython3",
   "version": "3.8.13"
  }
 },
 "nbformat": 4,
 "nbformat_minor": 5
}
